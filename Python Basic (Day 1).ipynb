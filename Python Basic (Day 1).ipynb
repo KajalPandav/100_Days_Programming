{
 "cells": [
  {
   "cell_type": "code",
   "execution_count": 1,
   "metadata": {},
   "outputs": [
    {
     "name": "stdout",
     "output_type": "stream",
     "text": [
      "50\n"
     ]
    }
   ],
   "source": [
    "a = 20\n",
    "b = 30\n",
    "print(a+b)"
   ]
  },
  {
   "cell_type": "code",
   "execution_count": 4,
   "metadata": {},
   "outputs": [
    {
     "name": "stdout",
     "output_type": "stream",
     "text": [
      "0\n"
     ]
    }
   ],
   "source": [
    "a = 10\n",
    "b = 10\n",
    "c = a-b\n",
    "print(c)"
   ]
  },
  {
   "cell_type": "code",
   "execution_count": 5,
   "metadata": {},
   "outputs": [
    {
     "name": "stdout",
     "output_type": "stream",
     "text": [
      "Division of two numbers is:\n",
      "0.5111111111111111\n"
     ]
    }
   ],
   "source": [
    "x1 = 23\n",
    "x2 = 45\n",
    "x = x1/x2\n",
    "print(\"Division of two numbers is:\")\n",
    "print(x)"
   ]
  },
  {
   "cell_type": "code",
   "execution_count": 6,
   "metadata": {},
   "outputs": [
    {
     "name": "stdout",
     "output_type": "stream",
     "text": [
      "70\n",
      "70\n",
      "Substraction of two numbers: 70\n",
      "Substraction is: 70\n"
     ]
    }
   ],
   "source": [
    "a1 = 90\n",
    "b1 = 20\n",
    "c1 = a1-b1\n",
    "print(c1)\n",
    "print(a1-b1)\n",
    "print(\"Substraction of two numbers:\",c1)\n",
    "print(\"Substraction is:\",a1-b1)"
   ]
  },
  {
   "cell_type": "code",
   "execution_count": 8,
   "metadata": {},
   "outputs": [
    {
     "name": "stdout",
     "output_type": "stream",
     "text": [
      "Addition is: 79.4\n",
      "***********************\n",
      "Substracton is: -32.6\n",
      "************************\n",
      "Multiplication is: 1310.3999999999999\n",
      "************************\n",
      "Division is: 0.4178571428571428\n"
     ]
    }
   ],
   "source": [
    "x = 23.4\n",
    "y = 56\n",
    "print(\"Addition is:\",x+y)\n",
    "print(\"***********************\")\n",
    "print(\"Substracton is:\",x-y)\n",
    "print(\"************************\")\n",
    "print(\"Multiplication is:\",x*y)\n",
    "print(\"************************\")\n",
    "print(\"Division is:\",x/y)"
   ]
  },
  {
   "cell_type": "code",
   "execution_count": 10,
   "metadata": {},
   "outputs": [
    {
     "name": "stdout",
     "output_type": "stream",
     "text": [
      "Enter value_1:45\n",
      "Enter value_2:63\n",
      "Enter value_3:78\n",
      "Multiplication: 2835 ______ Substraction: 33 _______ Division: 0.8076923076923077\n"
     ]
    }
   ],
   "source": [
    "a1 = int(input(\"Enter value_1:\"))\n",
    "b1 = int(input(\"Enter value_2:\"))\n",
    "c1 = int(input(\"Enter value_3:\"))\n",
    "a = a1*b1\n",
    "b = c1-a1\n",
    "c = b1/c1\n",
    "print(\"Multiplication:\",a,\"______\",\"Substraction:\",b,\"_______\",\"Division:\",c)"
   ]
  },
  {
   "cell_type": "code",
   "execution_count": 1,
   "metadata": {},
   "outputs": [
    {
     "name": "stdout",
     "output_type": "stream",
     "text": [
      "Enter the N value:2\n",
      "Enter value_1:56\n",
      "Enter value_2:90\n",
      "Enter value_3:23\n",
      "Multiplication: 5040 ______ Substraction: -33 _______ Division: 3.9130434782608696\n",
      "**********************************************************************\n",
      "5040\n",
      "-33\n",
      "3.9130434782608696\n",
      "**********************************************************************\n",
      "Enter value_1:78\n",
      "Enter value_2:56\n",
      "Enter value_3:21\n",
      "Multiplication: 4368 ______ Substraction: -57 _______ Division: 2.6666666666666665\n",
      "**********************************************************************\n",
      "4368\n",
      "-57\n",
      "2.6666666666666665\n",
      "**********************************************************************\n"
     ]
    }
   ],
   "source": [
    "n = int(input(\"Enter the N value:\"))\n",
    "for x in range(n):\n",
    "    a1 = int(input(\"Enter value_1:\"))\n",
    "    b1 = int(input(\"Enter value_2:\"))\n",
    "    c1 = int(input(\"Enter value_3:\"))\n",
    "    a = a1*b1\n",
    "    b = c1-a1\n",
    "    c = b1/c1\n",
    "    print(\"Multiplication:\",a,\"______\",\"Substraction:\",b,\"_______\",\"Division:\",c)\n",
    "    print(\"**********************************************************************\")\n",
    "    print(a1*b1)\n",
    "    print(c1-a1)\n",
    "    print(b1/c1)\n",
    "    print(\"**********************************************************************\")"
   ]
  },
  {
   "cell_type": "code",
   "execution_count": 8,
   "metadata": {},
   "outputs": [
    {
     "name": "stdout",
     "output_type": "stream",
     "text": [
      "Hi kajal Here\n"
     ]
    }
   ],
   "source": [
    "Name = \"Hi kajal Here\"\n",
    "print(Name)"
   ]
  },
  {
   "cell_type": "code",
   "execution_count": 9,
   "metadata": {},
   "outputs": [
    {
     "data": {
      "text/plain": [
       "'Hi kajal Here'"
      ]
     },
     "execution_count": 9,
     "metadata": {},
     "output_type": "execute_result"
    }
   ],
   "source": [
    "Name"
   ]
  },
  {
   "cell_type": "code",
   "execution_count": 11,
   "metadata": {},
   "outputs": [
    {
     "name": "stdout",
     "output_type": "stream",
     "text": [
      "Enter name:Ankita\n",
      "Enter surname:Pandav\n",
      "AnkitaPandav\n",
      "Ankita Pandav\n"
     ]
    }
   ],
   "source": [
    "name = input(\"Enter name:\")\n",
    "surname = input(\"Enter surname:\")\n",
    "add = name+surname\n",
    "print(add)\n",
    "print(name,surname)"
   ]
  },
  {
   "cell_type": "code",
   "execution_count": 3,
   "metadata": {},
   "outputs": [
    {
     "name": "stdout",
     "output_type": "stream",
     "text": [
      "Enter name:Kajal\n",
      "Enter surname:Pandav\n",
      "Enter city name:kolhapur\n",
      "First_name: Kajal ***** Last_name: Pandav ***** city_name: kolhapur\n"
     ]
    }
   ],
   "source": [
    "Name = input(\"Enter name:\") \n",
    "Surname = input(\"Enter surname:\")\n",
    "city_name = input(\"Enter city name:\")\n",
    "print(\"First_name:\",Name,\"*****\",\"Last_name:\",Surname,\"*****\",\"city_name:\",city_name)"
   ]
  },
  {
   "cell_type": "code",
   "execution_count": 1,
   "metadata": {},
   "outputs": [
    {
     "name": "stdout",
     "output_type": "stream",
     "text": [
      "Enter the n value:3\n",
      "-----------------------------\n",
      "Enter the 1st value:78.56\n",
      "Enter the 2nd value:65.12\n",
      "Enter the 3rd value:96.21\n",
      "Enter the 4th value:32.46\n",
      "______________________________________\n",
      "Addition & Substraction:: 128.86999999999998\n",
      "*************************************\n",
      "Multiplication:: 5115.827200000001\n",
      "*************************************\n",
      "Division:: 0.3373869660118491\n",
      "*************************************\n",
      "Enter the 1st value:45\n",
      "Enter the 2nd value:12\n",
      "Enter the 3rd value:63.78\n",
      "Enter the 4th value:45\n",
      "______________________________________\n",
      "Addition & Substraction:: 30.78\n",
      "*************************************\n",
      "Multiplication:: 540.0\n",
      "*************************************\n",
      "Division:: 0.7055503292568203\n",
      "*************************************\n",
      "Enter the 1st value:63\n",
      "Enter the 2nd value:45\n",
      "Enter the 3rd value:78\n",
      "Enter the 4th value:96\n",
      "______________________________________\n",
      "Addition & Substraction:: 27.0\n",
      "*************************************\n",
      "Multiplication:: 2835.0\n",
      "*************************************\n",
      "Division:: 1.2307692307692308\n",
      "*************************************\n"
     ]
    }
   ],
   "source": [
    "n=int(input(\"Enter the n value:\"))\n",
    "print(\"-----------------------------\")\n",
    "for x in range(n):\n",
    "    x1 = float(input(\"Enter the 1st value:\"))\n",
    "    x2 = float(input(\"Enter the 2nd value:\"))\n",
    "    x3 = float(input(\"Enter the 3rd value:\"))\n",
    "    x4 = float(input(\"Enter the 4th value:\"))\n",
    "    print(\"______________________________________\")\n",
    "    print(\"Addition & Substraction::\",x2+x3-x4)\n",
    "    print(\"*************************************\")\n",
    "    print(\"Multiplication::\",x1*x2)\n",
    "    print(\"*************************************\")\n",
    "    print(\"Division::\",x4/x3)\n",
    "    print(\"*************************************\")"
   ]
  },
  {
   "cell_type": "code",
   "execution_count": null,
   "metadata": {},
   "outputs": [],
   "source": []
  }
 ],
 "metadata": {
  "kernelspec": {
   "display_name": "Python 3",
   "language": "python",
   "name": "python3"
  },
  "language_info": {
   "codemirror_mode": {
    "name": "ipython",
    "version": 3
   },
   "file_extension": ".py",
   "mimetype": "text/x-python",
   "name": "python",
   "nbconvert_exporter": "python",
   "pygments_lexer": "ipython3",
   "version": "3.7.6"
  }
 },
 "nbformat": 4,
 "nbformat_minor": 4
}
