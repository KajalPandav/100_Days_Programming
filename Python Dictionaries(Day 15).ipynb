{
 "cells": [
  {
   "cell_type": "code",
   "execution_count": 1,
   "metadata": {},
   "outputs": [
    {
     "name": "stdout",
     "output_type": "stream",
     "text": [
      "{'Name': 'Kolhapur', 'Contact_no': 123456789}\n"
     ]
    }
   ],
   "source": [
    "my_dict ={\"Name\" : \"Kolhapur\",\n",
    "         \"Contact_no\" : 123456789\n",
    "         }\n",
    "\n",
    "print(my_dict)"
   ]
  },
  {
   "cell_type": "code",
   "execution_count": 2,
   "metadata": {},
   "outputs": [
    {
     "data": {
      "text/plain": [
       "{'Name': 'Kolhapur', 'Contact_no': 123456789}"
      ]
     },
     "execution_count": 2,
     "metadata": {},
     "output_type": "execute_result"
    }
   ],
   "source": [
    "my_dict"
   ]
  },
  {
   "cell_type": "code",
   "execution_count": 3,
   "metadata": {},
   "outputs": [
    {
     "name": "stdout",
     "output_type": "stream",
     "text": [
      "{'Regi.No': 2, 'Stud_name': 'Nikita', 'city_name': 'Kolhapur', 'Contact_no': 894147446, 'Email_id': 'nikita@12'}\n"
     ]
    }
   ],
   "source": [
    "file = {\"Regi.No\" : 2,\n",
    "       \"Stud_name\" : \"Nikita\",\n",
    "       \"city_name\" : \"Kolhapur\",\n",
    "       \"Contact_no\" : 894147446,\n",
    "       \"Email_id\": \"nikita@12\",\n",
    "       }\n",
    "\n",
    "print(file)"
   ]
  },
  {
   "cell_type": "code",
   "execution_count": 4,
   "metadata": {},
   "outputs": [
    {
     "data": {
      "text/plain": [
       "{'Regi.No': 2,\n",
       " 'Stud_name': 'Nikita',\n",
       " 'city_name': 'Kolhapur',\n",
       " 'Contact_no': 894147446,\n",
       " 'Email_id': 'nikita@12'}"
      ]
     },
     "execution_count": 4,
     "metadata": {},
     "output_type": "execute_result"
    }
   ],
   "source": [
    "file"
   ]
  },
  {
   "cell_type": "markdown",
   "metadata": {},
   "source": [
    "# Keys function : "
   ]
  },
  {
   "cell_type": "markdown",
   "metadata": {},
   "source": [
    "keys function only shows the keys in the dictionary "
   ]
  },
  {
   "cell_type": "code",
   "execution_count": 5,
   "metadata": {},
   "outputs": [
    {
     "name": "stdout",
     "output_type": "stream",
     "text": [
      "Regi.No\n",
      "Stud_name\n",
      "city_name\n",
      "Contact_no\n",
      "Email_id\n"
     ]
    }
   ],
   "source": [
    "for x in file.keys():\n",
    "    print(x)"
   ]
  },
  {
   "cell_type": "markdown",
   "metadata": {},
   "source": [
    "# values function"
   ]
  },
  {
   "cell_type": "markdown",
   "metadata": {},
   "source": [
    "values function only shows the values in the dictionary "
   ]
  },
  {
   "cell_type": "code",
   "execution_count": 6,
   "metadata": {},
   "outputs": [
    {
     "name": "stdout",
     "output_type": "stream",
     "text": [
      "2\n",
      "Nikita\n",
      "Kolhapur\n",
      "894147446\n",
      "nikita@12\n"
     ]
    }
   ],
   "source": [
    "for y in file.values():\n",
    "    print(y)"
   ]
  },
  {
   "cell_type": "markdown",
   "metadata": {},
   "source": [
    "# items function"
   ]
  },
  {
   "cell_type": "markdown",
   "metadata": {},
   "source": [
    "items function shows the both keys & values in the dictionary"
   ]
  },
  {
   "cell_type": "code",
   "execution_count": 7,
   "metadata": {},
   "outputs": [
    {
     "name": "stdout",
     "output_type": "stream",
     "text": [
      "('Regi.No', 2)\n",
      "('Stud_name', 'Nikita')\n",
      "('city_name', 'Kolhapur')\n",
      "('Contact_no', 894147446)\n",
      "('Email_id', 'nikita@12')\n"
     ]
    }
   ],
   "source": [
    "for x in file.items():\n",
    "    print(x)"
   ]
  },
  {
   "cell_type": "code",
   "execution_count": 8,
   "metadata": {},
   "outputs": [],
   "source": [
    "file[\"Dmart\"]=[\"Green Tea\",\"Pitan\",\"Biscuits\",\"chocolates\"]"
   ]
  },
  {
   "cell_type": "code",
   "execution_count": 9,
   "metadata": {},
   "outputs": [
    {
     "data": {
      "text/plain": [
       "{'Regi.No': 2,\n",
       " 'Stud_name': 'Nikita',\n",
       " 'city_name': 'Kolhapur',\n",
       " 'Contact_no': 894147446,\n",
       " 'Email_id': 'nikita@12',\n",
       " 'Dmart': ['Green Tea', 'Pitan', 'Biscuits', 'chocolates']}"
      ]
     },
     "execution_count": 9,
     "metadata": {},
     "output_type": "execute_result"
    }
   ],
   "source": [
    "file"
   ]
  },
  {
   "cell_type": "markdown",
   "metadata": {},
   "source": [
    "# update"
   ]
  },
  {
   "cell_type": "code",
   "execution_count": 10,
   "metadata": {},
   "outputs": [
    {
     "data": {
      "text/plain": [
       "{'City name': ['Mumbai', 'pune', 'Kolhapur', 'Sangali'],\n",
       " 'Phone no.': 45365469,\n",
       " 'Name': 'Ankita',\n",
       " 'Address': 'Hatkanangale',\n",
       " 'Email ID': 'Shweta123@gmail.com',\n",
       " 'Dmart': ['Green Tea', 'Pitan', 'Biscuits', 'chocolates']}"
      ]
     },
     "execution_count": 10,
     "metadata": {},
     "output_type": "execute_result"
    }
   ],
   "source": [
    "file={\"City name\": [\"Mumbai\",\"pune\", \"Kolhapur\", \"Sangali\"],\n",
    "   \"Phone no.\": 45365469,\n",
    "   \"Name\": \"Shweta\",\n",
    "   \"Address\": \"Hatkanangale\",\n",
    "   \"Email ID\": \"Shweta123@gmail.com\",\n",
    "   \"Dmart\": [\"Green Tea\", \"Pitan\", \"Biscuits\", \"chocolates\"]\n",
    "}\n",
    "\n",
    "file.update({\"Name\":\"Ankita\"})\n",
    "file"
   ]
  },
  {
   "cell_type": "markdown",
   "metadata": {},
   "source": [
    "# pop"
   ]
  },
  {
   "cell_type": "code",
   "execution_count": 11,
   "metadata": {},
   "outputs": [
    {
     "data": {
      "text/plain": [
       "{'City name': ['Mumbai', 'pune', 'Kolhapur', 'Sangali'],\n",
       " 'Phone no.': 45365469,\n",
       " 'Address': 'Hatkanangale',\n",
       " 'Email ID': 'Shweta123@gmail.com',\n",
       " 'Dmart': ['Green Tea', 'Pitan', 'Biscuits', 'chocolates']}"
      ]
     },
     "execution_count": 11,
     "metadata": {},
     "output_type": "execute_result"
    }
   ],
   "source": [
    "file={\"City name\": [\"Mumbai\",\"pune\", \"Kolhapur\", \"Sangali\"],\n",
    "   \"Phone no.\": 45365469,\n",
    "   \"Name\": \"Shweta\",\n",
    "   \"Address\": \"Hatkanangale\",\n",
    "   \"Email ID\": \"Shweta123@gmail.com\",\n",
    "   \"Dmart\": [\"Green Tea\", \"Pitan\", \"Biscuits\", \"chocolates\"]\n",
    "}\n",
    "\n",
    "file.pop(\"Name\")\n",
    "file"
   ]
  },
  {
   "cell_type": "code",
   "execution_count": 12,
   "metadata": {},
   "outputs": [
    {
     "name": "stdout",
     "output_type": "stream",
     "text": [
      "5\n"
     ]
    }
   ],
   "source": [
    "print(len(file))"
   ]
  },
  {
   "cell_type": "code",
   "execution_count": 13,
   "metadata": {},
   "outputs": [
    {
     "name": "stdout",
     "output_type": "stream",
     "text": [
      "<class 'dict'>\n"
     ]
    }
   ],
   "source": [
    "print(type(file))"
   ]
  },
  {
   "cell_type": "markdown",
   "metadata": {},
   "source": [
    "# popitem"
   ]
  },
  {
   "cell_type": "code",
   "execution_count": 14,
   "metadata": {},
   "outputs": [
    {
     "data": {
      "text/plain": [
       "{'City name': ['Mumbai', 'pune', 'Kolhapur', 'Sangali'],\n",
       " 'Phone no.': 45365469,\n",
       " 'Name': 'Shweta',\n",
       " 'Address': 'Hatkanangale',\n",
       " 'Email ID': 'Shweta123@gmail.com'}"
      ]
     },
     "execution_count": 14,
     "metadata": {},
     "output_type": "execute_result"
    }
   ],
   "source": [
    "file={\"City name\": [\"Mumbai\",\"pune\", \"Kolhapur\", \"Sangali\"],\n",
    "   \"Phone no.\": 45365469,\n",
    "   \"Name\": \"Shweta\",\n",
    "   \"Address\": \"Hatkanangale\",\n",
    "   \"Email ID\": \"Shweta123@gmail.com\",\n",
    "   \"Dmart\": [\"Green Tea\", \"Pitan\", \"Biscuits\", \"chocolates\"]\n",
    "}\n",
    "\n",
    "file.popitem()\n",
    "file"
   ]
  },
  {
   "cell_type": "markdown",
   "metadata": {},
   "source": [
    "# delete"
   ]
  },
  {
   "cell_type": "code",
   "execution_count": 15,
   "metadata": {},
   "outputs": [
    {
     "data": {
      "text/plain": [
       "{'City name': ['Mumbai', 'pune', 'Kolhapur', 'Sangali'],\n",
       " 'Phone no.': 45365469,\n",
       " 'Address': 'Hatkanangale',\n",
       " 'Email ID': 'Shweta123@gmail.com',\n",
       " 'Dmart': ['Green Tea', 'Pitan', 'Biscuits', 'chocolates']}"
      ]
     },
     "execution_count": 15,
     "metadata": {},
     "output_type": "execute_result"
    }
   ],
   "source": [
    "a={\"City name\": [\"Mumbai\",\"pune\", \"Kolhapur\", \"Sangali\"],\n",
    "   \"Phone no.\": 45365469,\n",
    "   \"Name\": \"Shweta\",\n",
    "   \"Address\": \"Hatkanangale\",\n",
    "   \"Email ID\": \"Shweta123@gmail.com\",\n",
    "   \"Dmart\": [\"Green Tea\", \"Pitan\", \"Biscuits\", \"chocolates\"]\n",
    "}\n",
    "\n",
    "del a[\"Name\"]\n",
    "a"
   ]
  },
  {
   "cell_type": "code",
   "execution_count": 16,
   "metadata": {},
   "outputs": [
    {
     "name": "stdout",
     "output_type": "stream",
     "text": [
      "City name: ['Mumbai', 'pune', 'Kolhapur', 'Sangali']\n",
      "Phone no.: 45365469\n",
      "Name: Shweta\n",
      "Address: Hatkanangale\n",
      "Email ID: Shweta123@gmail.com\n",
      "Dmart: ['Green Tea', 'Pitan', 'Biscuits', 'chocolates']\n"
     ]
    }
   ],
   "source": [
    "a={\"City name:\": [\"Mumbai\",\"pune\", \"Kolhapur\", \"Sangali\"],\n",
    "   \"Phone no.:\": 45365469,\n",
    "   \"Name:\": \"Shweta\",\n",
    "   \"Address:\": \"Hatkanangale\",\n",
    "   \"Email ID:\": \"Shweta123@gmail.com\",\n",
    "   \"Dmart:\": [\"Green Tea\", \"Pitan\", \"Biscuits\", \"chocolates\"]\n",
    "}\n",
    "\n",
    "for x,y in a.items():\n",
    "    print(x,y)"
   ]
  },
  {
   "cell_type": "code",
   "execution_count": 17,
   "metadata": {},
   "outputs": [
    {
     "data": {
      "text/plain": [
       "{'Name:': 'kajal pandav',\n",
       " 'Address:': 'Hatkanangale',\n",
       " 'Email_id:': 'kajal@gmail.com',\n",
       " 'computer': 'CPU'}"
      ]
     },
     "execution_count": 17,
     "metadata": {},
     "output_type": "execute_result"
    }
   ],
   "source": [
    "a={\"Name:\" : \"kajal pandav\",\n",
    "   \"Address:\" : \"Hatkanangale\",\n",
    "   \"Email_id:\":\"kajal@gmail.com\"\n",
    "  }\n",
    "a\n",
    "\n",
    "a[\"computer\"]=\"CPU\"\n",
    "\n",
    "a"
   ]
  },
  {
   "cell_type": "code",
   "execution_count": null,
   "metadata": {},
   "outputs": [],
   "source": []
  }
 ],
 "metadata": {
  "kernelspec": {
   "display_name": "Python 3",
   "language": "python",
   "name": "python3"
  },
  "language_info": {
   "codemirror_mode": {
    "name": "ipython",
    "version": 3
   },
   "file_extension": ".py",
   "mimetype": "text/x-python",
   "name": "python",
   "nbconvert_exporter": "python",
   "pygments_lexer": "ipython3",
   "version": "3.7.6"
  }
 },
 "nbformat": 4,
 "nbformat_minor": 4
}
