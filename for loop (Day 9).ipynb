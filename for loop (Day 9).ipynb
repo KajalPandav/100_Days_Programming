{
 "cells": [
  {
   "cell_type": "markdown",
   "metadata": {},
   "source": [
    "# for loop"
   ]
  },
  {
   "cell_type": "code",
   "execution_count": 1,
   "metadata": {},
   "outputs": [
    {
     "name": "stdout",
     "output_type": "stream",
     "text": [
      "0\n",
      "1\n",
      "2\n",
      "3\n",
      "4\n",
      "5\n",
      "6\n",
      "7\n",
      "8\n",
      "9\n"
     ]
    }
   ],
   "source": [
    "for x in range(10):\n",
    "    print(x)"
   ]
  },
  {
   "cell_type": "code",
   "execution_count": 2,
   "metadata": {},
   "outputs": [
    {
     "name": "stdout",
     "output_type": "stream",
     "text": [
      "Enter the n value:3\n",
      "0\n",
      "1\n",
      "2\n"
     ]
    }
   ],
   "source": [
    "n=int(input(\"Enter the n value:\"))\n",
    "for y in range(n):\n",
    "    print(y)"
   ]
  },
  {
   "cell_type": "code",
   "execution_count": 3,
   "metadata": {},
   "outputs": [
    {
     "name": "stdout",
     "output_type": "stream",
     "text": [
      "Enter the n1 value:2\n",
      "Enter the n value:10\n",
      "............................\n",
      "0\n",
      "1\n",
      "2\n",
      "3\n",
      "4\n",
      "5\n",
      "6\n",
      "7\n",
      "8\n",
      "9\n",
      "----------------------------\n",
      "----------------------------\n",
      "Enter the n value:5\n",
      "............................\n",
      "0\n",
      "1\n",
      "2\n",
      "3\n",
      "4\n",
      "----------------------------\n",
      "----------------------------\n"
     ]
    }
   ],
   "source": [
    "n1=int(input(\"Enter the n1 value:\"))\n",
    "for x in range(n1):\n",
    "    n=int(input(\"Enter the n value:\"))\n",
    "    print(\"............................\")\n",
    "    for y in range(n):\n",
    "        print(y)\n",
    "    print(\"----------------------------\") \n",
    "    print(\"----------------------------\")"
   ]
  },
  {
   "cell_type": "code",
   "execution_count": 4,
   "metadata": {},
   "outputs": [
    {
     "name": "stdout",
     "output_type": "stream",
     "text": [
      "5\n",
      "6\n",
      "7\n",
      "8\n",
      "9\n"
     ]
    }
   ],
   "source": [
    "for x in range(5,10):\n",
    "    print(x)"
   ]
  },
  {
   "cell_type": "code",
   "execution_count": 5,
   "metadata": {},
   "outputs": [
    {
     "name": "stdout",
     "output_type": "stream",
     "text": [
      "Enter the n value:3\n",
      "Starting value::10\n",
      "ending value::15\n",
      "------------------------------\n",
      "10\n",
      "11\n",
      "12\n",
      "13\n",
      "14\n",
      "...........................\n",
      "...........................\n",
      "Starting value::20\n",
      "ending value::30\n",
      "------------------------------\n",
      "20\n",
      "21\n",
      "22\n",
      "23\n",
      "24\n",
      "25\n",
      "26\n",
      "27\n",
      "28\n",
      "29\n",
      "...........................\n",
      "...........................\n",
      "Starting value::100\n",
      "ending value::110\n",
      "------------------------------\n",
      "100\n",
      "101\n",
      "102\n",
      "103\n",
      "104\n",
      "105\n",
      "106\n",
      "107\n",
      "108\n",
      "109\n",
      "...........................\n",
      "...........................\n"
     ]
    }
   ],
   "source": [
    "n = int(input(\"Enter the n value:\"))\n",
    "for x in range(n):\n",
    "    start = int(input(\"Starting value::\"))\n",
    "    end = int(input(\"ending value::\"))\n",
    "    print(\"------------------------------\")\n",
    "    for x in range(start,end):\n",
    "        print(x)\n",
    "    print(\"...........................\")  \n",
    "    print(\"...........................\")"
   ]
  },
  {
   "cell_type": "code",
   "execution_count": 6,
   "metadata": {},
   "outputs": [
    {
     "name": "stdout",
     "output_type": "stream",
     "text": [
      "1\n",
      "3\n",
      "5\n",
      "7\n",
      "9\n",
      "11\n",
      "13\n",
      "15\n",
      "17\n",
      "19\n"
     ]
    }
   ],
   "source": [
    "#odd numbers\n",
    "for b in range(1,20,2):\n",
    "    print(b)"
   ]
  },
  {
   "cell_type": "code",
   "execution_count": 7,
   "metadata": {},
   "outputs": [
    {
     "name": "stdout",
     "output_type": "stream",
     "text": [
      "2\n",
      "4\n",
      "6\n",
      "8\n",
      "10\n",
      "12\n",
      "14\n",
      "16\n",
      "18\n"
     ]
    }
   ],
   "source": [
    "#Even numbers\n",
    "for x in range(2,20,2):\n",
    "    print(x)"
   ]
  },
  {
   "cell_type": "code",
   "execution_count": 8,
   "metadata": {},
   "outputs": [
    {
     "name": "stdout",
     "output_type": "stream",
     "text": [
      "5\n",
      "10\n",
      "15\n",
      "20\n",
      "25\n",
      "30\n",
      "35\n",
      "40\n",
      "45\n",
      "50\n"
     ]
    }
   ],
   "source": [
    "# 5 table\n",
    "for c in range(5,55,5):\n",
    "    print(c)"
   ]
  },
  {
   "cell_type": "code",
   "execution_count": 9,
   "metadata": {},
   "outputs": [
    {
     "name": "stdout",
     "output_type": "stream",
     "text": [
      "Enter the n value:2\n",
      "Starting value::2\n",
      "ending value::20\n",
      "difference between two values::3\n",
      "------------------------------\n",
      "2\n",
      "5\n",
      "8\n",
      "11\n",
      "14\n",
      "17\n",
      "...........................\n",
      "...........................\n",
      "Starting value::50\n",
      "ending value::100\n",
      "difference between two values::10\n",
      "------------------------------\n",
      "50\n",
      "60\n",
      "70\n",
      "80\n",
      "90\n",
      "...........................\n",
      "...........................\n"
     ]
    }
   ],
   "source": [
    "n = int(input(\"Enter the n value:\"))\n",
    "for x in range(n):\n",
    "    start = int(input(\"Starting value::\"))\n",
    "    end = int(input(\"ending value::\"))\n",
    "    difference = int(input(\"difference between two values::\"))\n",
    "    print(\"------------------------------\")\n",
    "    for x in range(start,end,difference):\n",
    "        print(x)\n",
    "    print(\"...........................\")  \n",
    "    print(\"...........................\")"
   ]
  },
  {
   "cell_type": "code",
   "execution_count": 10,
   "metadata": {},
   "outputs": [
    {
     "name": "stdout",
     "output_type": "stream",
     "text": [
      "R\n",
      "a\n",
      "c\n",
      "k\n",
      "s\n",
      "o\n",
      "n\n",
      "i\n",
      "t\n"
     ]
    }
   ],
   "source": [
    "a=\"Racksonit\"\n",
    "for x in a:\n",
    "    print(x)"
   ]
  },
  {
   "cell_type": "code",
   "execution_count": 11,
   "metadata": {},
   "outputs": [
    {
     "name": "stdout",
     "output_type": "stream",
     "text": [
      "ankita\n",
      "nikita\n",
      "renu\n",
      "sayali\n",
      "kajal\n"
     ]
    }
   ],
   "source": [
    "a1=[\"ankita\",\"nikita\",\"renu\",\"sayali\",\"kajal\"]\n",
    "for x in a1:\n",
    "    print(x)"
   ]
  },
  {
   "cell_type": "code",
   "execution_count": 12,
   "metadata": {},
   "outputs": [
    {
     "name": "stdout",
     "output_type": "stream",
     "text": [
      "ankita\n",
      "a\n",
      "n\n",
      "k\n",
      "i\n",
      "t\n",
      "a\n",
      "-------------------\n",
      "nikita\n",
      "n\n",
      "i\n",
      "k\n",
      "i\n",
      "t\n",
      "a\n",
      "-------------------\n",
      "renu\n",
      "r\n",
      "e\n",
      "n\n",
      "u\n",
      "-------------------\n",
      "sayali\n",
      "s\n",
      "a\n",
      "y\n",
      "a\n",
      "l\n",
      "i\n",
      "-------------------\n",
      "kajal\n",
      "k\n",
      "a\n",
      "j\n",
      "a\n",
      "l\n",
      "-------------------\n"
     ]
    }
   ],
   "source": [
    "a1=[\"ankita\",\"nikita\",\"renu\",\"sayali\",\"kajal\"]\n",
    "for x in a1:\n",
    "    print(x)\n",
    "    for y in x:\n",
    "        print(y)\n",
    "    print(\"-------------------\")    "
   ]
  },
  {
   "cell_type": "code",
   "execution_count": 13,
   "metadata": {},
   "outputs": [
    {
     "name": "stdout",
     "output_type": "stream",
     "text": [
      "Enter the city name:mumbai\n",
      "m\n",
      "u\n",
      "m\n",
      "b\n",
      "a\n",
      "i\n"
     ]
    }
   ],
   "source": [
    "a=input(\"Enter the city name:\")\n",
    "for x in a:\n",
    "    print(x)"
   ]
  },
  {
   "cell_type": "code",
   "execution_count": 14,
   "metadata": {},
   "outputs": [
    {
     "name": "stdout",
     "output_type": "stream",
     "text": [
      "Enter n value:3\n",
      ".......................\n",
      "Enter city name::kolhapur\n",
      "k\n",
      "o\n",
      "l\n",
      "h\n",
      "a\n",
      "p\n",
      "u\n",
      "r\n",
      "Enter city name::pune\n",
      "p\n",
      "u\n",
      "n\n",
      "e\n",
      "Enter city name::satara\n",
      "s\n",
      "a\n",
      "t\n",
      "a\n",
      "r\n",
      "a\n"
     ]
    }
   ],
   "source": [
    "n=int(input(\"Enter n value:\"))\n",
    "print(\".......................\")\n",
    "for y1 in range(n):\n",
    "    city_name = input(\"Enter city name::\")\n",
    "    for x in city_name:\n",
    "        print(x)"
   ]
  },
  {
   "cell_type": "code",
   "execution_count": 15,
   "metadata": {},
   "outputs": [
    {
     "name": "stdout",
     "output_type": "stream",
     "text": [
      "s\n",
      "a\n",
      "t\n",
      "a\n",
      "r\n",
      "a\n"
     ]
    }
   ],
   "source": [
    "a=[\"pune\",\"satara\",\"lonavala\"]\n",
    "for x in a[1]:\n",
    "    print(x)"
   ]
  },
  {
   "cell_type": "code",
   "execution_count": 16,
   "metadata": {},
   "outputs": [
    {
     "name": "stdout",
     "output_type": "stream",
     "text": [
      "m\n",
      "m\n",
      "u\n",
      "u\n",
      "m\n",
      "m\n",
      "b\n",
      "b\n",
      "a\n",
      "a\n",
      "i\n",
      "i\n"
     ]
    }
   ],
   "source": [
    "a=[\"mumbai\",\"kolhapur\"]\n",
    "for x in a[0]:\n",
    "    print(x)\n",
    "    for y in x:\n",
    "        print(y)"
   ]
  },
  {
   "cell_type": "code",
   "execution_count": 17,
   "metadata": {},
   "outputs": [
    {
     "name": "stdout",
     "output_type": "stream",
     "text": [
      "n\n"
     ]
    }
   ],
   "source": [
    "a=[\"kolhapur\",\"sangali\",\"swargate\"]\n",
    "for x in a[1][2]:\n",
    "    print(x)"
   ]
  },
  {
   "cell_type": "code",
   "execution_count": 18,
   "metadata": {},
   "outputs": [
    {
     "name": "stdout",
     "output_type": "stream",
     "text": [
      "Enter the value for table:20\n",
      "20\n",
      "40\n",
      "60\n",
      "80\n",
      "100\n",
      "120\n",
      "140\n",
      "160\n",
      "180\n",
      "200\n"
     ]
    }
   ],
   "source": [
    "n=int(input(\"Enter the value for table:\"))\n",
    "for x in range(n,n*11,n):\n",
    "    print(x)"
   ]
  },
  {
   "cell_type": "code",
   "execution_count": 19,
   "metadata": {},
   "outputs": [
    {
     "name": "stdout",
     "output_type": "stream",
     "text": [
      "Enter first city name:mumbai\n",
      "Enter second city name:sangali\n",
      "['mumbai', 'sangali']\n"
     ]
    }
   ],
   "source": [
    "a=input(\"Enter first city name:\")\n",
    "b=input(\"Enter second city name:\")\n",
    "c=[a,b]\n",
    "print(c)"
   ]
  },
  {
   "cell_type": "code",
   "execution_count": 20,
   "metadata": {},
   "outputs": [
    {
     "name": "stdout",
     "output_type": "stream",
     "text": [
      "r\n",
      "total 30\n",
      "e\n",
      "total 30\n",
      "n\n",
      "total 30\n",
      "u\n",
      "total 30\n"
     ]
    }
   ],
   "source": [
    "a=\"renu\"\n",
    "for x in a:\n",
    "    print(x)\n",
    "    a1=10\n",
    "    b1=20\n",
    "    print(\"total\",a1+b1)"
   ]
  },
  {
   "cell_type": "code",
   "execution_count": 21,
   "metadata": {},
   "outputs": [
    {
     "name": "stdout",
     "output_type": "stream",
     "text": [
      "renu\n",
      "total 31\n",
      "kajal\n",
      "total 31\n"
     ]
    }
   ],
   "source": [
    "a=\"renu\"\n",
    "b=\"kajal\"\n",
    "c=[a,b]\n",
    "for x in c:\n",
    "    print(x)\n",
    "    a1=11\n",
    "    b1=20\n",
    "    print(\"total\",a1+b1)"
   ]
  },
  {
   "cell_type": "code",
   "execution_count": null,
   "metadata": {},
   "outputs": [],
   "source": []
  }
 ],
 "metadata": {
  "kernelspec": {
   "display_name": "Python 3",
   "language": "python",
   "name": "python3"
  },
  "language_info": {
   "codemirror_mode": {
    "name": "ipython",
    "version": 3
   },
   "file_extension": ".py",
   "mimetype": "text/x-python",
   "name": "python",
   "nbconvert_exporter": "python",
   "pygments_lexer": "ipython3",
   "version": "3.7.6"
  }
 },
 "nbformat": 4,
 "nbformat_minor": 4
}
