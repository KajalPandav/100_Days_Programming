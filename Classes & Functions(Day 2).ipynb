{
 "cells": [
  {
   "cell_type": "code",
   "execution_count": 1,
   "metadata": {},
   "outputs": [
    {
     "name": "stdout",
     "output_type": "stream",
     "text": [
      "Enter the n value:2\n",
      "*****************************\n",
      "Enter the First_Name::Kajal\n",
      "Enter the last_name::Pandav\n",
      "Enter the Contact_no::79846516\n",
      "Enter the Roll_no:34\n",
      "***************************************************\n",
      "Enter physics marks:88\n",
      "Enter Chemistry marks:65\n",
      "Enter maths marks:78\n",
      "Enter biology marks:99\n",
      "Enter English marks:65\n",
      "***************************************************\n",
      "Total Avarage of all the subjects:: 79.0\n",
      "***************************************************\n",
      "---------------------------------------------------\n",
      "Enter the First_Name::Renu\n",
      "Enter the last_name::Kalyani\n",
      "Enter the Contact_no::894612165\n",
      "Enter the Roll_no:46\n",
      "***************************************************\n",
      "Enter physics marks:98\n",
      "Enter Chemistry marks:77\n",
      "Enter maths marks:66\n",
      "Enter biology marks:90\n",
      "Enter English marks:80\n",
      "***************************************************\n",
      "Total Avarage of all the subjects:: 82.2\n",
      "***************************************************\n",
      "---------------------------------------------------\n"
     ]
    }
   ],
   "source": [
    "class student_mark:\n",
    "    def register(self):\n",
    "        self.First_name = input(\"Enter the First_Name::\")\n",
    "        self.Last_name = input(\"Enter the last_name::\")\n",
    "        self.Contact_no = int(input(\"Enter the Contact_no::\"))\n",
    "        self.Roll_no = int(input(\"Enter the Roll_no:\"))\n",
    "        print(\"***************************************************\")\n",
    "    def Marks(self):\n",
    "        self.Physics = int(input(\"Enter physics marks:\"))\n",
    "        self.Chemistry = int(input(\"Enter Chemistry marks:\"))\n",
    "        self.Maths = int(input(\"Enter maths marks:\"))\n",
    "        self.Biology = int(input(\"Enter biology marks:\"))\n",
    "        self.English = int(input(\"Enter English marks:\"))\n",
    "        print(\"***************************************************\")\n",
    "    def avarage(self):\n",
    "        self.avg = (self.Physics+self.Chemistry+self.Maths+self.Biology+self.English)/5\n",
    "        print(\"Total Avarage of all the subjects::\",self.avg)\n",
    "        print(\"***************************************************\")\n",
    "        print(\"---------------------------------------------------\")\n",
    "\n",
    "n=int(input(\"Enter the n value:\"))\n",
    "print(\"*****************************\")\n",
    "for x in range(n):\n",
    "    obj = student_mark()\n",
    "    obj.register()\n",
    "    obj.Marks()\n",
    "    obj.avarage()"
   ]
  },
  {
   "cell_type": "code",
   "execution_count": 2,
   "metadata": {},
   "outputs": [
    {
     "name": "stdout",
     "output_type": "stream",
     "text": [
      "Enter the product_number:3\n",
      "Enter the product_id:456\n",
      "Enter the product_name:Sugar\n",
      "Enter the product_cost:40\n",
      "Enter the product_PKD_date:2-2-22\n",
      "Enter the product_EXP_date:2-3-22\n",
      "Product_No.: 3 ______________ Product_ID: 456 _____________ Product_Name: Sugar\n",
      "Product_Cost: 40 _____________ Product_PKD_date: 2-2-22 ______________ Product_EXP_date: 2-3-22\n",
      "******************************************************************************************\n",
      "Enter the product_number:5\n",
      "Enter the product_id:2345\n",
      "Enter the product_name:Milk\n",
      "Enter the product_cost:60\n",
      "Enter the product_PKD_date:10-2-22\n",
      "Enter the product_EXP_date:11-2-22\n",
      "Product_No.: 5 ______________ Product_ID: 2345 _____________ Product_Name: Milk\n",
      "Product_Cost: 60 _____________ Product_PKD_date: 10-2-22 ______________ Product_EXP_date: 11-2-22\n",
      "******************************************************************************************\n"
     ]
    }
   ],
   "source": [
    "class DMART:\n",
    "    def product(self):\n",
    "        self.product_no = int(input(\"Enter the product_number:\"))\n",
    "        self.product_id = int(input(\"Enter the product_id:\"))\n",
    "        self.product_name = input(\"Enter the product_name:\")\n",
    "        self.product_cost = int(input(\"Enter the product_cost:\"))\n",
    "        self.product_PKD_date = input(\"Enter the product_PKD_date:\")\n",
    "        self.product_EXP_date = input(\"Enter the product_EXP_date:\")\n",
    "    def show(self):\n",
    "        print(\"Product_No.:\",self.product_no,\"______________\",\"Product_ID:\",self.product_id,\"_____________\",\"Product_Name:\", self.product_name)\n",
    "        print(\"Product_Cost:\",self.product_cost,\"_____________\",\"Product_PKD_date:\",self.product_PKD_date,\"______________\",\"Product_EXP_date:\",self.product_EXP_date)\n",
    "        print(\"******************************************************************************************\")\n",
    "\n",
    "for x in range(2):\n",
    "    obj=DMART()\n",
    "    obj.product()\n",
    "    obj.show()\n"
   ]
  },
  {
   "cell_type": "markdown",
   "metadata": {},
   "source": [
    "# Using init function"
   ]
  },
  {
   "cell_type": "code",
   "execution_count": 3,
   "metadata": {},
   "outputs": [
    {
     "name": "stdout",
     "output_type": "stream",
     "text": [
      "Name: Renu\n",
      "Age: 23\n"
     ]
    }
   ],
   "source": [
    "class person():\n",
    "    def __init__(self, name, age):\n",
    "        self.name = name\n",
    "        self.age = age\n",
    "        \n",
    "p1 = person(\"Renu\",23)\n",
    "\n",
    "print(\"Name:\",p1.name)\n",
    "print(\"Age:\",p1.age)"
   ]
  },
  {
   "cell_type": "code",
   "execution_count": 4,
   "metadata": {},
   "outputs": [
    {
     "name": "stdout",
     "output_type": "stream",
     "text": [
      "Hello my name is John\n"
     ]
    }
   ],
   "source": [
    "class Person:\n",
    "    def __init__(self, name, age):\n",
    "        self.name = name\n",
    "        self.age = age\n",
    "\n",
    "    def myfunc(self):\n",
    "        print(\"Hello my name is \" + self.name)\n",
    "\n",
    "p1 = Person(\"John\", 36)\n",
    "p1.myfunc()\n"
   ]
  },
  {
   "cell_type": "code",
   "execution_count": 5,
   "metadata": {},
   "outputs": [
    {
     "name": "stdout",
     "output_type": "stream",
     "text": [
      "Enter the Registration no.:23\n",
      "Enter the Name:Ankita\n",
      "Enter the user name:Anku@12\n",
      "Enter the Login ID:AnkitaPandav\n",
      "Enter the Password45465\n",
      "----------------------------------------------\n",
      "Registration_NO:  23\n",
      "Name:  Ankita\n",
      "User Name:  Anku@12\n",
      "Login ID:  AnkitaPandav\n",
      "Password:  45465\n",
      "********************************************\n",
      "********************************************\n",
      "Enter the Registration no.:34\n",
      "Enter the Name:Nikita\n",
      "Enter the user name:Nki@123\n",
      "Enter the Login ID:NkitaK\n",
      "Enter the Password243655\n",
      "----------------------------------------------\n",
      "Registration_NO:  34\n",
      "Name:  Nikita\n",
      "User Name:  Nki@123\n",
      "Login ID:  NkitaK\n",
      "Password:  243655\n",
      "********************************************\n",
      "********************************************\n",
      "Enter the Registration no.:56\n",
      "Enter the Name:Sayali\n",
      "Enter the user name:sayali@90\n",
      "Enter the Login ID:SayaliAA\n",
      "Enter the Password2465576\n",
      "----------------------------------------------\n",
      "Registration_NO:  56\n",
      "Name:  Sayali\n",
      "User Name:  sayali@90\n",
      "Login ID:  SayaliAA\n",
      "Password:  2465576\n",
      "********************************************\n",
      "********************************************\n"
     ]
    }
   ],
   "source": [
    "class Register:\n",
    "    def __init__(self):\n",
    "        self.Regi_no = int(input(\"Enter the Registration no.:\"))\n",
    "        self.Name = input(\"Enter the Name:\")\n",
    "        self.User_name = input(\"Enter the user name:\")\n",
    "        self.Login_id = input(\"Enter the Login ID:\")\n",
    "        self.Password = int(input(\"Enter the Password\"))\n",
    "        print(\"----------------------------------------------\")\n",
    "        \n",
    "for x in range(3):\n",
    "    Regi = Register()\n",
    "    print(\"Registration_NO: \",Regi.Regi_no)\n",
    "    print(\"Name: \",Regi.Name)\n",
    "    print(\"User Name: \",Regi.User_name)\n",
    "    print(\"Login ID: \",Regi.Login_id)\n",
    "    print(\"Password: \",Regi.Password)\n",
    "    print(\"********************************************\")\n",
    "    print(\"********************************************\")"
   ]
  },
  {
   "cell_type": "code",
   "execution_count": 6,
   "metadata": {},
   "outputs": [
    {
     "name": "stdout",
     "output_type": "stream",
     "text": [
      "Name:  Kajal\n",
      "Roll_no:  34\n",
      "Department:  CSE\n"
     ]
    }
   ],
   "source": [
    "class department:\n",
    "    def __init__(self,Name,Roll_no,Department):\n",
    "        self.Name = Name\n",
    "        self.Roll_no = Roll_no\n",
    "        self.Department = Department\n",
    "        \n",
    "m1 = department(\"Kajal\",34,\"CSE\")\n",
    "print(\"Name: \",m1.Name)\n",
    "print(\"Roll_no: \",m1.Roll_no)\n",
    "print(\"Department: \",m1.Department)"
   ]
  },
  {
   "cell_type": "code",
   "execution_count": null,
   "metadata": {},
   "outputs": [],
   "source": []
  }
 ],
 "metadata": {
  "kernelspec": {
   "display_name": "Python 3 (ipykernel)",
   "language": "python",
   "name": "python3"
  },
  "language_info": {
   "codemirror_mode": {
    "name": "ipython",
    "version": 3
   },
   "file_extension": ".py",
   "mimetype": "text/x-python",
   "name": "python",
   "nbconvert_exporter": "python",
   "pygments_lexer": "ipython3",
   "version": "3.7.11"
  }
 },
 "nbformat": 4,
 "nbformat_minor": 4
}
