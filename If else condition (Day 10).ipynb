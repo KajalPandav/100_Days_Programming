{
 "cells": [
  {
   "cell_type": "code",
   "execution_count": 1,
   "metadata": {},
   "outputs": [
    {
     "name": "stdout",
     "output_type": "stream",
     "text": [
      "b is greater than a\n"
     ]
    }
   ],
   "source": [
    "a = 33\n",
    "b = 200\n",
    "if b > a:\n",
    "    print(\"b is greater than a\")"
   ]
  },
  {
   "cell_type": "code",
   "execution_count": 2,
   "metadata": {},
   "outputs": [
    {
     "name": "stdout",
     "output_type": "stream",
     "text": [
      "NOT CORRECT !!\n"
     ]
    }
   ],
   "source": [
    "a = 200\n",
    "b = 200\n",
    "if b > a:\n",
    "    print(\"b is greater than a\")\n",
    "else:\n",
    "    print(\"NOT CORRECT !!\")"
   ]
  },
  {
   "cell_type": "code",
   "execution_count": 3,
   "metadata": {},
   "outputs": [
    {
     "name": "stdout",
     "output_type": "stream",
     "text": [
      "Enter the 1st value:1212\n",
      "Enter the 2nd value:1212\n",
      "--------------------\n",
      "values are Equal\n"
     ]
    }
   ],
   "source": [
    "a=int(input(\"Enter the 1st value:\"))\n",
    "b=int(input(\"Enter the 2nd value:\"))\n",
    "if a==b:\n",
    "    print(\"--------------------\")\n",
    "    print(\"values are Equal\")\n",
    "else:\n",
    "    print(\"----------------------\")\n",
    "    print(\"Values are not Equal\")"
   ]
  },
  {
   "cell_type": "code",
   "execution_count": 4,
   "metadata": {},
   "outputs": [
    {
     "name": "stdout",
     "output_type": "stream",
     "text": [
      "Enter the n value::3\n",
      "Enter the 1st value:2332\n",
      "Enter the 2nd value:21\n",
      "----------------------\n",
      "Values are not Equal\n",
      "......................\n",
      "......................\n",
      "Enter the 1st value:100\n",
      "Enter the 2nd value:100\n",
      "--------------------\n",
      "values are Equal\n",
      "......................\n",
      "......................\n",
      "Enter the 1st value:45\n",
      "Enter the 2nd value:40\n",
      "----------------------\n",
      "Values are not Equal\n",
      "......................\n",
      "......................\n"
     ]
    }
   ],
   "source": [
    "n=int(input(\"Enter the n value::\"))\n",
    "for x in range(n):\n",
    "    a=int(input(\"Enter the 1st value:\"))\n",
    "    b=int(input(\"Enter the 2nd value:\"))\n",
    "    if a==b:\n",
    "        print(\"--------------------\")\n",
    "        print(\"values are Equal\")\n",
    "        print(\"......................\")\n",
    "        print(\"......................\")\n",
    "    else:\n",
    "        print(\"----------------------\")\n",
    "        print(\"Values are not Equal\")\n",
    "        print(\"......................\")\n",
    "        print(\"......................\")        "
   ]
  },
  {
   "cell_type": "code",
   "execution_count": 5,
   "metadata": {},
   "outputs": [
    {
     "name": "stdout",
     "output_type": "stream",
     "text": [
      "Enter the A value:50\n",
      "Enter the B value:50\n",
      "equal\n",
      "--------------\n",
      "Enter the A value:45\n",
      "Enter the B value:90\n",
      "Not equal\n",
      "--------------\n"
     ]
    }
   ],
   "source": [
    "for x in range(2):\n",
    "    a=int(input(\"Enter the A value:\"))\n",
    "    b=int(input(\"Enter the B value:\"))\n",
    "    if a!=b:\n",
    "        print(\"Not equal\")\n",
    "        print(\"--------------\")\n",
    "    else:\n",
    "        print(\"equal\")\n",
    "        print(\"--------------\")"
   ]
  },
  {
   "cell_type": "code",
   "execution_count": 6,
   "metadata": {},
   "outputs": [
    {
     "name": "stdout",
     "output_type": "stream",
     "text": [
      "Enter n value:4\n",
      "A value:12\n",
      "B value:21\n",
      "---------------------\n",
      "b is greater than a\n",
      "......................................\n",
      "......................................\n",
      "A value:90\n",
      "B value:98\n",
      "---------------------\n",
      "b is greater than a\n",
      "......................................\n",
      "......................................\n",
      "A value:56\n",
      "B value:67\n",
      "---------------------\n",
      "b is greater than a\n",
      "......................................\n",
      "......................................\n",
      "A value:87\n",
      "B value:90\n",
      "---------------------\n",
      "b is greater than a\n",
      "......................................\n",
      "......................................\n"
     ]
    }
   ],
   "source": [
    "n=int(input(\"Enter n value:\"))\n",
    "for y in range(n):\n",
    "    a = int(input(\"A value:\"))\n",
    "    b = int(input(\"B value:\"))\n",
    "    if b > a:\n",
    "        print(\"---------------------\")\n",
    "        print(\"b is greater than a\")\n",
    "        print(\"......................................\")\n",
    "        print(\"......................................\")\n",
    "    elif a > b:\n",
    "        print(\"----------------------\")\n",
    "        print(\"a is greater than b\")\n",
    "        print(\"......................................\")\n",
    "        print(\"......................................\")\n",
    "    elif a == b:\n",
    "        print(\"----------------------\")\n",
    "        print(\"a and b are equal\")\n",
    "        print(\"......................................\")\n",
    "        print(\"......................................\")\n",
    "    else:\n",
    "        print(\"-----------------------\")\n",
    "        print(\"values are not correct\")\n",
    "        print(\"......................................\")\n",
    "        print(\"......................................\")"
   ]
  },
  {
   "cell_type": "code",
   "execution_count": 7,
   "metadata": {},
   "outputs": [
    {
     "name": "stdout",
     "output_type": "stream",
     "text": [
      "Enter the N value::2\n",
      "Enter the city name:pune\n",
      "Invalid city name\n",
      "----------------------\n",
      "Enter the city name:kolhapur\n",
      "welcome to kolhapur\n",
      "-------------------\n"
     ]
    }
   ],
   "source": [
    "city=[\"kolhapur\",\"Satara\",\"ichalkaranji\"]\n",
    "n=int(input(\"Enter the N value::\"))\n",
    "for i in range(n):\n",
    "    a=input(\"Enter the city name:\")\n",
    "    for x in city:\n",
    "        if a==x:\n",
    "            print(\"welcome to\",a)\n",
    "            print(\"-------------------\")\n",
    "            break\n",
    "    else:\n",
    "        print(\"Invalid city name\")\n",
    "        print(\"----------------------\")"
   ]
  },
  {
   "cell_type": "code",
   "execution_count": 8,
   "metadata": {},
   "outputs": [
    {
     "name": "stdout",
     "output_type": "stream",
     "text": [
      "Enter first number:5\n",
      "Enter second number:10\n",
      "not divisible\n",
      "Enter first number:10\n",
      "Enter second number:5\n",
      "divisible\n"
     ]
    }
   ],
   "source": [
    "for x in range(2):\n",
    "    a=int(input(\"Enter first number:\"))\n",
    "    b=int(input(\"Enter second number:\"))\n",
    "    if a%b==0:\n",
    "        print(\"divisible\")\n",
    "    else:\n",
    "        print(\"not divisible\")"
   ]
  },
  {
   "cell_type": "code",
   "execution_count": null,
   "metadata": {},
   "outputs": [],
   "source": []
  }
 ],
 "metadata": {
  "kernelspec": {
   "display_name": "Python 3",
   "language": "python",
   "name": "python3"
  },
  "language_info": {
   "codemirror_mode": {
    "name": "ipython",
    "version": 3
   },
   "file_extension": ".py",
   "mimetype": "text/x-python",
   "name": "python",
   "nbconvert_exporter": "python",
   "pygments_lexer": "ipython3",
   "version": "3.7.6"
  }
 },
 "nbformat": 4,
 "nbformat_minor": 4
}
